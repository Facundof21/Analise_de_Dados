{
  "nbformat": 4,
  "nbformat_minor": 0,
  "metadata": {
    "colab": {
      "provenance": []
    },
    "kernelspec": {
      "name": "python3",
      "display_name": "Python 3"
    },
    "language_info": {
      "name": "python"
    }
  },
  "cells": [
    {
      "cell_type": "markdown",
      "source": [
        "# Módulo Visualização de Dados:"
      ],
      "metadata": {
        "id": "8FQ9BDDBceK6"
      }
    },
    {
      "cell_type": "markdown",
      "source": [
        "Leia o arquivo ecommerce_preparados.csv’ dentro de um dataframe  \n",
        "\n",
        "Faça uma análise detalhada dos dados, descubra quais dados gostaria de destacar e crie os seguintes gráficos:\n",
        "\n",
        "\n",
        "*   1 Gráfico de dispersão\n",
        "*   1 Mapa de calor\n",
        "*   1 Gráfico de barra\n",
        "*   1 Gráfico de pizza\n",
        "*   1 Gráfico de densidade\n",
        "\n",
        "Adicione títulos nos gráficos e nos eixos para ficar claro os objetivos dos gráficos.\n",
        "\n",
        "Fiquem a vontade para escolher a biblioteca que quiserem, não esqueçam de comentar os códigos."
      ],
      "metadata": {
        "id": "TRJRKptEcT4t"
      }
    },
    {
      "cell_type": "markdown",
      "source": [
        "Essa atividade é um pouco diferente, vocês terão que construir os códigos nesse arquivo e enviar ou o arquivo ou o link do github com o arquivo publicado para os tutores."
      ],
      "metadata": {
        "id": "IEND0EU-chPr"
      }
    },
    {
      "cell_type": "code",
      "source": [
        "import matplotlib.pyplot as plt\n",
        "import seaborn as sns\n",
        "import pandas as pd\n",
        "\n",
        "df = pd.read_csv(\"ecommerce_preparados.csv\")\n",
        "print(df.head(20).to_string())\n",
        "\n",
        "df.drop_duplicates(subset=\"Título\", inplace=True)\n",
        "print(df.head(20).to_string())\n",
        "\n",
        "\n",
        "#df_corr = df[\"Nota_MinMax\", \"N_Avaliações_MinMax\", \"Desconto_MinMax\", \"Preço_MinMax\", \"Marca_Cod\", \"Material_Cod\", \"Temporada_Cod\", \"Qtd_Vendidos_Cod\", \"Marca_Freq\", \"Material_Freq\"]].corr()\n",
        "# Primeiro fiz uma analise com os dados Normalizado e tratados, logo depois olhei quais deles tinham correlações altas, tanto negativas quanto possitivas\n",
        "\n",
        "# Logo abaixo fiz uma analise apenas com as Variantes que tem correlações altas para ter certeza.\n",
        "df_corr = df[[\"N_Avaliações_MinMax\", \"Qtd_Vendidos_Cod\", \"Temporada_Cod\", \"Material_Cod\",]].corr()\n",
        "# Heatmap de correção\n",
        "plt.figure(figsize=(9, 4))\n",
        "sns.heatmap(df_corr, annot=True, fmt=\".2f\")\n",
        "plt.title(\"Mapa de Calor Apenas com as Variáveis Normalizadas\")\n",
        "plt.xticks(rotation=0)\n",
        "plt.show()\n",
        "\n",
        "# Gráfico de Dispersão\n",
        "sns.pairplot(df[[\"N_Avaliações_MinMax\", \"Qtd_Vendidos_Cod\", \"Temporada_Cod\", \"Material_Cod\",]])\n",
        "plt.show()\n",
        "\n",
        "# Mapa de Calor\n",
        "plt.figure(figsize=(10, 4))\n",
        "plt.subplot(1, 2, 1)\n",
        "corr = df[[\"Temporada_Cod\", \"Material_Cod\"]].corr()\n",
        "sns.heatmap(corr, annot=True, cmap=\"coolwarm\")\n",
        "plt.title(\"Correlação de Temporada e Material\")\n",
        "\n",
        "plt.subplot(1,2,2)\n",
        "corr = df[[\"N_Avaliações_MinMax\", \"Qtd_Vendidos_Cod\"]].corr()\n",
        "sns.heatmap(corr, annot=True, cmap=\"coolwarm\")\n",
        "plt.xticks(rotation=0)\n",
        "plt.title(\"Correlação de Avaliações e QTD de Vendas\")\n",
        "plt.tight_layout() # Ajustar espaçamentos\n",
        "plt.show()\n",
        "\n",
        "\n",
        "# Gráfico de Barras\n",
        "plt.figure(figsize=(9, 4))\n",
        "sns.countplot(y=\"Gênero\", hue=\"Gênero\", data=df)\n",
        "plt.title(\"Gêneros que mais vendem\")\n",
        "plt.ylabel(\"Gênero\")\n",
        "plt.xlabel(\"Nivel de cada gênero\")\n",
        "plt.legend(title=\"Cor dos Gêneros\")\n",
        "plt.show()\n",
        "\n",
        "# Gráfico em pizza\n",
        "x = df[\"Gênero\"].value_counts().index\n",
        "y = df[\"Gênero\"].value_counts().values\n",
        "plt.figure(figsize=(10, 10))\n",
        "plt.pie(y, labels=x, autopct=\"%.1f%%\", startangle=90)\n",
        "plt.title(\"Distribuição de Nível dos Gêneros\")\n",
        "plt.tight_layout()\n",
        "plt.show()\n",
        "\n",
        "# Gráficos de Densidade\n",
        "plt.figure(figsize=(10, 6))\n",
        "sns.kdeplot(df[\"Qtd_Vendidos_Cod\"], fill=True, color=\"#863e9c\")\n",
        "plt.title(\"Densidade de Qtd de Vendas\")\n",
        "plt.xlabel(\"Qtd vendidas\")\n",
        "plt.xticks(ticks=range(0, int(df[\"Qtd_Vendidos_Cod\"].max())+10000, 10000))\n",
        "plt.show()\n"
      ],
      "metadata": {
        "id": "iFkiKvUCeusO"
      },
      "execution_count": null,
      "outputs": []
    }
  ]
}